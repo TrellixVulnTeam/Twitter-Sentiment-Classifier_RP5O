{
  "nbformat": 4,
  "nbformat_minor": 0,
  "metadata": {
    "colab": {
      "name": "cnn-text-classification.ipynb",
      "provenance": [],
      "authorship_tag": "ABX9TyPYl2DkHjLZe8Bv64uRQsy/",
      "include_colab_link": true
    },
    "kernelspec": {
      "display_name": "Python 3",
      "name": "python3"
    }
  },
  "cells": [
    {
      "cell_type": "markdown",
      "metadata": {
        "id": "view-in-github",
        "colab_type": "text"
      },
      "source": [
        "<a href=\"https://colab.research.google.com/github/avyaktawrat/Twitter-Sentiment-Classifier/blob/master/cnn_text_classification.ipynb\" target=\"_parent\"><img src=\"https://colab.research.google.com/assets/colab-badge.svg\" alt=\"Open In Colab\"/></a>"
      ]
    },
    {
      "cell_type": "code",
      "metadata": {
        "colab": {
          "base_uri": "https://localhost:8080/"
        },
        "id": "5g71DoyCaQFQ",
        "outputId": "c4480a09-59e7-498d-ffc8-ed95fcb7c47e"
      },
      "source": [
        "from google.colab import drive\n",
        "drive.mount('/gdrive')\n",
        "drive.mount('/content/gdrive')\n",
        "%cd gdrive"
      ],
      "execution_count": 1,
      "outputs": [
        {
          "output_type": "stream",
          "text": [
            "Mounted at /gdrive\n",
            "Mounted at /content/gdrive\n",
            "/content/gdrive\n"
          ],
          "name": "stdout"
        }
      ]
    },
    {
      "cell_type": "code",
      "metadata": {
        "id": "o88X8F_iaQvW"
      },
      "source": [
        "# %cd gdrive"
      ],
      "execution_count": null,
      "outputs": []
    },
    {
      "cell_type": "code",
      "metadata": {
        "colab": {
          "base_uri": "https://localhost:8080/"
        },
        "id": "MjwdH42FMxPw",
        "outputId": "21ef4656-1ade-4509-ee1a-0d17311ed133"
      },
      "source": [
        "%cd MyDrive"
      ],
      "execution_count": 2,
      "outputs": [
        {
          "output_type": "stream",
          "text": [
            "/content/gdrive/MyDrive\n"
          ],
          "name": "stdout"
        }
      ]
    },
    {
      "cell_type": "code",
      "metadata": {
        "colab": {
          "base_uri": "https://localhost:8080/"
        },
        "id": "SZBZLxm2a4qq",
        "outputId": "369a59d8-1df3-4497-d2a5-92e3c16fd3ef"
      },
      "source": [
        "%cd cnn-text-classification-pytorch-master"
      ],
      "execution_count": 3,
      "outputs": [
        {
          "output_type": "stream",
          "text": [
            "/content/gdrive/MyDrive/cnn-text-classification-pytorch-master\n"
          ],
          "name": "stdout"
        }
      ]
    },
    {
      "cell_type": "code",
      "metadata": {
        "colab": {
          "base_uri": "https://localhost:8080/"
        },
        "id": "UGl3q4Tva_6e",
        "outputId": "fec5646d-ee1b-4b5a-bf33-48006c50f910"
      },
      "source": [
        "!python3 main.py"
      ],
      "execution_count": 15,
      "outputs": [
        {
          "output_type": "stream",
          "text": [
            "\n",
            "Loading data...\n",
            "The `device` argument should be set by using `torch.device` or passing a string as an argument. This behavior will be deprecated soon and currently defaults to cpu.\n",
            "The `device` argument should be set by using `torch.device` or passing a string as an argument. This behavior will be deprecated soon and currently defaults to cpu.\n",
            "\n",
            "Parameters:\n",
            "\tBATCH_SIZE=200\n",
            "\tCLASS_NUM=3\n",
            "\tCUDA=False\n",
            "\tDEVICE=-1\n",
            "\tDROPOUT=0.5\n",
            "\tEARLY_STOP=100\n",
            "\tEMBED_DIM=128\n",
            "\tEMBED_NUM=29292\n",
            "\tEPOCHS=32\n",
            "\tKERNEL_NUM=50\n",
            "\tKERNEL_SIZES=[1, 2, 3, 4]\n",
            "\tLOG_INTERVAL=1\n",
            "\tLR=0.001\n",
            "\tMAX_NORM=0.0001\n",
            "\tPREDICT=None\n",
            "\tSAVE_BEST=True\n",
            "\tSAVE_DIR=snapshot/2021-01-21_19-58-07\n",
            "\tSAVE_INTERVAL=500\n",
            "\tSHUFFLE=False\n",
            "\tSNAPSHOT=None\n",
            "\tSTATIC=False\n",
            "\tTEST=False\n",
            "\tTEST_INTERVAL=100\n",
            "\n",
            "Batch[100] - loss: 0.798948  acc: 65.0000%(130/200)/usr/local/lib/python3.6/dist-packages/torch/nn/_reduction.py:44: UserWarning: size_average and reduce args will be deprecated, please use reduction='sum' instead.\n",
            "  warnings.warn(warning.format(ret))\n",
            "\n",
            "Evaluation - loss: 0.902399  acc: 58.1322%(2216/3812) \n",
            "\n",
            "Batch[200] - loss: 0.809459  acc: 64.5000%(129/200)\n",
            "Evaluation - loss: 0.861808  acc: 59.5488%(2270/3812) \n",
            "\n",
            "Batch[300] - loss: 0.663656  acc: 74.5000%(149/200)\n",
            "Evaluation - loss: 0.849130  acc: 60.4932%(2306/3812) \n",
            "\n",
            "Batch[400] - loss: 0.552172  acc: 78.0000%(156/200)\n",
            "Evaluation - loss: 0.867193  acc: 60.9654%(2324/3812) \n",
            "\n",
            "Batch[500] - loss: 0.526393  acc: 81.5000%(163/200)\n",
            "Evaluation - loss: 0.890670  acc: 61.1490%(2331/3812) \n",
            "\n",
            "Batch[600] - loss: 0.423154  acc: 84.0000%(168/200)\n",
            "Evaluation - loss: 0.924083  acc: 61.7261%(2353/3812) \n",
            "\n",
            "Batch[700] - loss: 0.213787  acc: 92.5000%(185/200)\n",
            "Evaluation - loss: 0.997861  acc: 62.1983%(2371/3812) \n",
            "\n",
            "Batch[800] - loss: 0.201185  acc: 94.5000%(189/200)\n",
            "Evaluation - loss: 1.030153  acc: 62.0147%(2364/3812) \n",
            "\n",
            "early stop by 100 steps.\n",
            "Batch[900] - loss: 0.181423  acc: 94.0000%(188/200)\n",
            "Evaluation - loss: 1.151097  acc: 61.7261%(2353/3812) \n",
            "\n",
            "early stop by 100 steps.\n",
            "Batch[913] - loss: 0.125533  acc: 97.5000%(195/200)\n",
            "-----------------------------------------------------------------------------------------\n",
            "Exiting from training early\n"
          ],
          "name": "stdout"
        }
      ]
    }
  ]
}