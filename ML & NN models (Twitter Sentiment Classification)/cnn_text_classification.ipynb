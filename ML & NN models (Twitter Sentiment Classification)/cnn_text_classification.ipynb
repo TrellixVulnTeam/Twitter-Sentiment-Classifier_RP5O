{
  "nbformat": 4,
  "nbformat_minor": 0,
  "metadata": {
    "colab": {
      "name": "cnn-text-classification.ipynb",
      "provenance": [],
      "authorship_tag": "ABX9TyPYl2DkHjLZe8Bv64uRQsy/",
      "include_colab_link": true
    },
    "kernelspec": {
      "display_name": "Python 3",
      "name": "python3"
    }
  },
  "cells": [
    {
      "cell_type": "markdown",
      "metadata": {
        "id": "view-in-github",
        "colab_type": "text"
      },
      "source": [
        "<a href=\"https://colab.research.google.com/github/avyaktawrat/Twitter-Sentiment-Classifier/blob/master/cnn_text_classification.ipynb\" target=\"_parent\"><img src=\"https://colab.research.google.com/assets/colab-badge.svg\" alt=\"Open In Colab\"/></a>"
      ]
    },
    {
      "cell_type": "code",
      "metadata": {
        "colab": {
          "base_uri": "https://localhost:8080/"
        },
        "id": "5g71DoyCaQFQ",
        "outputId": "c4480a09-59e7-498d-ffc8-ed95fcb7c47e"
      },
      "source": [
        "from google.colab import drive\n",
        "drive.mount('/gdrive')\n",
        "drive.mount('/content/gdrive')\n",
        "%cd gdrive"
      ],
      "execution_count": 1,
      "outputs": [
        {
          "output_type": "stream",
          "text": [
            "Mounted at /gdrive\n",
            "Mounted at /content/gdrive\n",
            "/content/gdrive\n"
          ],
          "name": "stdout"
        }
      ]
    },
    {
      "cell_type": "code",
      "metadata": {
        "id": "o88X8F_iaQvW"
      },
      "source": [
        "# %cd gdrive"
      ],
      "execution_count": null,
      "outputs": []
    },
    {
      "cell_type": "code",
      "metadata": {
        "colab": {
          "base_uri": "https://localhost:8080/"
        },
        "id": "MjwdH42FMxPw",
        "outputId": "21ef4656-1ade-4509-ee1a-0d17311ed133"
      },
      "source": [
        "%cd MyDrive"
      ],
      "execution_count": 2,
      "outputs": [
        {
          "output_type": "stream",
          "text": [
            "/content/gdrive/MyDrive\n"
          ],
          "name": "stdout"
        }
      ]
    },
    {
      "cell_type": "code",
      "metadata": {
        "colab": {
          "base_uri": "https://localhost:8080/"
        },
        "id": "SZBZLxm2a4qq",
        "outputId": "369a59d8-1df3-4497-d2a5-92e3c16fd3ef"
      },
      "source": [
        "%cd cnn-text-classification-pytorch-master"
      ],
      "execution_count": 3,
      "outputs": [
        {
          "output_type": "stream",
          "text": [
            "/content/gdrive/MyDrive/cnn-text-classification-pytorch-master\n"
          ],
          "name": "stdout"
        }
      ]
    },
    {
      "cell_type": "code",
      "metadata": {
        "colab": {
          "base_uri": "https://localhost:8080/"
        },
        "id": "UGl3q4Tva_6e",
        "outputId": "718c6797-06f9-4773-9943-ad972ed55a8a"
      },
      "source": [
        "!python3 main.py"
      ],
      "execution_count": 16,
      "outputs": [
        {
          "output_type": "stream",
          "text": [
            "\n",
            "Loading data...\n",
            "The `device` argument should be set by using `torch.device` or passing a string as an argument. This behavior will be deprecated soon and currently defaults to cpu.\n",
            "The `device` argument should be set by using `torch.device` or passing a string as an argument. This behavior will be deprecated soon and currently defaults to cpu.\n",
            "\n",
            "Parameters:\n",
            "\tBATCH_SIZE=200\n",
            "\tCLASS_NUM=3\n",
            "\tCUDA=False\n",
            "\tDEVICE=-1\n",
            "\tDROPOUT=0.5\n",
            "\tEARLY_STOP=100\n",
            "\tEMBED_DIM=128\n",
            "\tEMBED_NUM=29292\n",
            "\tEPOCHS=32\n",
            "\tKERNEL_NUM=50\n",
            "\tKERNEL_SIZES=[1, 2, 3, 4]\n",
            "\tLOG_INTERVAL=1\n",
            "\tLR=0.001\n",
            "\tMAX_NORM=0.0001\n",
            "\tPREDICT=None\n",
            "\tSAVE_BEST=True\n",
            "\tSAVE_DIR=snapshot/2021-01-21_20-15-54\n",
            "\tSAVE_INTERVAL=500\n",
            "\tSHUFFLE=False\n",
            "\tSNAPSHOT=None\n",
            "\tSTATIC=False\n",
            "\tTEST=False\n",
            "\tTEST_INTERVAL=100\n",
            "\n",
            "Batch[100] - loss: 0.834422  acc: 59.5000%(119/200)/usr/local/lib/python3.6/dist-packages/torch/nn/_reduction.py:44: UserWarning: size_average and reduce args will be deprecated, please use reduction='sum' instead.\n",
            "  warnings.warn(warning.format(ret))\n",
            "\n",
            "Evaluation - loss: 0.899739  acc: 57.4502%(2190/3812) \n",
            "\n",
            "Batch[200] - loss: 0.796502  acc: 60.5000%(121/200)\n",
            "Evaluation - loss: 0.879421  acc: 59.0241%(2250/3812) \n",
            "\n",
            "Batch[300] - loss: 0.663679  acc: 71.5000%(143/200)\n",
            "Evaluation - loss: 0.870099  acc: 59.5226%(2269/3812) \n",
            "\n",
            "Batch[400] - loss: 0.658487  acc: 72.0000%(144/200)\n",
            "Evaluation - loss: 0.843414  acc: 60.8604%(2320/3812) \n",
            "\n",
            "Batch[500] - loss: 0.572070  acc: 78.5000%(157/200)\n",
            "Evaluation - loss: 0.850389  acc: 61.2015%(2333/3812) \n",
            "\n",
            "Batch[600] - loss: 0.629595  acc: 76.0000%(152/200)\n",
            "Evaluation - loss: 0.860887  acc: 61.3064%(2337/3812) \n",
            "\n",
            "Batch[700] - loss: 0.437435  acc: 83.5000%(167/200)\n",
            "Evaluation - loss: 0.862772  acc: 61.7786%(2355/3812) \n",
            "\n",
            "Batch[800] - loss: 0.416921  acc: 84.5000%(169/200)\n",
            "Evaluation - loss: 0.877505  acc: 62.3820%(2378/3812) \n",
            "\n",
            "Batch[900] - loss: 0.402946  acc: 83.5000%(167/200)\n",
            "Evaluation - loss: 0.900316  acc: 62.7492%(2392/3812) \n",
            "\n",
            "Batch[1000] - loss: 0.290558  acc: 90.0000%(180/200)\n",
            "Evaluation - loss: 0.897053  acc: 63.3001%(2413/3812) \n",
            "\n",
            "Batch[1100] - loss: 0.253711  acc: 92.0000%(184/200)\n",
            "Evaluation - loss: 0.928166  acc: 63.2214%(2410/3812) \n",
            "\n",
            "early stop by 100 steps.\n",
            "Batch[1200] - loss: 0.244733  acc: 93.0000%(186/200)\n",
            "Evaluation - loss: 0.978452  acc: 63.0902%(2405/3812) \n",
            "\n",
            "early stop by 100 steps.\n",
            "Batch[1300] - loss: 0.148350  acc: 97.0000%(194/200)\n",
            "Evaluation - loss: 0.979527  acc: 63.7461%(2430/3812) \n",
            "\n",
            "Batch[1376] - loss: 0.198834  acc: 92.5532%(174/188)"
          ],
          "name": "stdout"
        }
      ]
    }
  ]
}
